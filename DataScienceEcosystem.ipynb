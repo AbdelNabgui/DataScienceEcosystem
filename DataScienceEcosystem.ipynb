{
 "cells": [
  {
   "cell_type": "markdown",
   "id": "245972e7-721c-48ed-8773-0c0eedb8557d",
   "metadata": {
    "tags": []
   },
   "source": [
    "# Data Science Tools and Ecosystem"
   ]
  },
  {
   "cell_type": "markdown",
   "id": "47fa8019-58b5-45ef-b3d0-abb9df5c12b2",
   "metadata": {},
   "source": []
  },
  {
   "cell_type": "markdown",
   "id": "dcd67ffd-e5bd-41bf-8a3c-a49f7f55b33d",
   "metadata": {},
   "source": [
    "In this notebook, Data Science Tools and Ecosystem are summarized.\n"
   ]
  },
  {
   "cell_type": "markdown",
   "id": "ece31d1d-7656-49c8-8011-b9ed045b4404",
   "metadata": {},
   "source": [
    "##### Objectives:\n",
    "* Create and format markdown cells\n",
    "* Create ordered and unordered cells\n",
    "* Create tables in a markdown\n",
    "* Perform basics arithmetic operations in code"
   ]
  },
  {
   "cell_type": "markdown",
   "id": "1e5ad166-f424-4e00-82f9-2f25689213e7",
   "metadata": {},
   "source": [
    "Some of the popular languages that Data Scientists use are:\n",
    "1. Python\n",
    "2. R\n",
    "3. Julia"
   ]
  },
  {
   "cell_type": "markdown",
   "id": "61a2cfc3-0ef8-4d28-b8cd-62da997f4719",
   "metadata": {},
   "source": [
    "Some of the commonly used libraries used by Data Scientists include:\n",
    "1. Tensorflow\n",
    "2. Keras\n",
    "3. Scikit-learn"
   ]
  },
  {
   "cell_type": "markdown",
   "id": "a1d7b6bd-f594-4173-9468-ab9bcc7a18c8",
   "metadata": {
    "tags": []
   },
   "source": [
    "|Data Science Tools |\n",
    "---------------------\n",
    "|Rstudio |\n",
    "|Anaconda|\n",
    "|Visual studio|"
   ]
  },
  {
   "cell_type": "markdown",
   "id": "4708ba2d-846b-442d-b22f-d361b21884cf",
   "metadata": {},
   "source": [
    "### Below are a few examples of evaluating arithmetic expressions in Python.\n"
   ]
  },
  {
   "cell_type": "code",
   "execution_count": null,
   "id": "09b55118-152c-4e99-a5df-24657c977c63",
   "metadata": {},
   "outputs": [],
   "source": []
  },
  {
   "cell_type": "code",
   "execution_count": 5,
   "id": "f556b1aa-d9f4-4919-a788-243b3340c334",
   "metadata": {
    "tags": []
   },
   "outputs": [
    {
     "data": {
      "text/plain": [
       "17"
      ]
     },
     "execution_count": 5,
     "metadata": {},
     "output_type": "execute_result"
    }
   ],
   "source": [
    "# This a simple arithmetic expression to mutiply then add integers\n",
    "(3*4)+5"
   ]
  },
  {
   "cell_type": "code",
   "execution_count": null,
   "id": "a9adce5f-8260-405b-b700-972a6133e637",
   "metadata": {
    "tags": []
   },
   "outputs": [],
   "source": [
    "# This will convert 200 minutes to hours by diving by 60\n",
    "200/60"
   ]
  },
  {
   "cell_type": "markdown",
   "id": "ce216acb-73d8-4bbc-a7dd-f62e612cb695",
   "metadata": {},
   "source": [
    "## Author\n",
    "Abderrahmane Nabgui"
   ]
  }
 ],
 "metadata": {
  "kernelspec": {
   "display_name": "Python",
   "language": "python",
   "name": "conda-env-python-py"
  },
  "language_info": {
   "codemirror_mode": {
    "name": "ipython",
    "version": 3
   },
   "file_extension": ".py",
   "mimetype": "text/x-python",
   "name": "python",
   "nbconvert_exporter": "python",
   "pygments_lexer": "ipython3",
   "version": "3.7.12"
  }
 },
 "nbformat": 4,
 "nbformat_minor": 5
}
